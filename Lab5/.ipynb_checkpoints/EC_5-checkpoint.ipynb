{
 "cells": [
  {
   "cell_type": "markdown",
   "metadata": {},
   "source": [
    "# Sistemas Inteligentes\n",
    "\n",
    "## Exercício Computacional 5 - Otimização"
   ]
  },
  {
   "cell_type": "markdown",
   "metadata": {},
   "source": [
    "### Identificação do Aluno"
   ]
  },
  {
   "cell_type": "markdown",
   "metadata": {},
   "source": [
    "#### Nome Completo"
   ]
  },
  {
   "cell_type": "markdown",
   "metadata": {},
   "source": [
    "Gabriel Mesquita de Souza"
   ]
  },
  {
   "cell_type": "markdown",
   "metadata": {},
   "source": [
    "#### RA"
   ]
  },
  {
   "cell_type": "markdown",
   "metadata": {},
   "source": [
    "11057015"
   ]
  },
  {
   "cell_type": "markdown",
   "metadata": {},
   "source": [
    "## Instruções"
   ]
  },
  {
   "cell_type": "markdown",
   "metadata": {},
   "source": [
    "1. Escolha um problema de otimização, identifique-o e explique-o.\n",
    "\n",
    "2. Escolha ao menos uma técnica de otimização, identifique-a e explique-a.\n",
    "\n",
    "3. Utilize células intermediárias de tipo _Markdown_ para explicar o que é feito em cada célula de código. Mas não deixe de utilizar comentários breves e pertinentes dentro do próprio código. Isto significa que o desenvolvimento NÃO deve ser feito em uma única célula.\n",
    "\n",
    "4. Sempre que for cabível, exiba as figuras, os gráficos, os valores (ao menos parte deles) etc., mas procure sempre manter um capricho em todas as saídas.\n",
    "\n",
    "5. Ao final, comente da forma mais completa possível os resultados obtidos, sempre sugerindo o que poderia ser feito para melhorá-los e fornecendo elementos que contribuam para a sua compreensão.\n",
    "\n",
    "6. Respeite as regras gramaticais e procure manter coesão, coerência e fluidez em seus textos.\n",
    "\n",
    "7. Apesar de a análise dos resultados ser mais importante do que o código em si, serão analisados critérios como organização e clareza do código, então evite códigos \"poluídos\" e confusos.\n",
    "\n",
    "8. Caso seja utilizada alguma fonte de consulta ou inspiração para o exercício, lembre-se de citá-la apropriadamente ao fim."
   ]
  },
  {
   "cell_type": "markdown",
   "metadata": {},
   "source": [
    "### Problema a ser trabalhado"
   ]
  },
  {
   "cell_type": "markdown",
   "metadata": {},
   "source": [
    "#### Identificação do Problema"
   ]
  },
  {
   "cell_type": "markdown",
   "metadata": {},
   "source": [
    "Neste exercício, abordarei sobre a coevoluçaão coperativa"
   ]
  },
  {
   "cell_type": "markdown",
   "metadata": {},
   "source": [
    "#### Explicação do Problema"
   ]
  },
  {
   "cell_type": "markdown",
   "metadata": {},
   "source": [
    "A coevolução é apenas uma extensão de como os algoritmos funcionam no deap. Múltiplas populações são desenvolvidas em seu próprio tempo (ou simultaneamente em múltiplos processos), como nos algoritmos genéticos tradicionais. A implementação da coevolução é, portanto, direta. Um primeiro loop atua para iterar sobre as populações e um segundo loop itera sobre os indivíduos dessa população.\n",
    "Partindo da criação inúmeras espécies que irão evoluir, a coevolução cooperativa funciona enviando o melhor indivíduo de cada espécie (chamado representante) para ajudar na avaliação dos indivíduos das outras espécies.\n",
    "Após a evolução de cada espécie, são adicionadas novas espécies e removidas as espécies que se estagnaram "
   ]
  },
  {
   "cell_type": "markdown",
   "metadata": {},
   "source": [
    "### Técnica"
   ]
  },
  {
   "cell_type": "markdown",
   "metadata": {},
   "source": [
    "#### Identificação da Técnica"
   ]
  },
  {
   "cell_type": "markdown",
   "metadata": {},
   "source": [
    "Será utilizado algoritmo genético da biblioteca DEAP"
   ]
  },
  {
   "cell_type": "markdown",
   "metadata": {},
   "source": [
    "#### Explicação da Técnica"
   ]
  },
  {
   "cell_type": "markdown",
   "metadata": {},
   "source": [
    "Algoritmos Genéticos é uma técnica que simula a evolução das espécies no mundo biológico, para um algoritmo de aprendizado de máquina.\n",
    "A técnica se baseia em uma população de representações abstratas de solução que é selecionada em busca de soluções melhores. A evolução geralmente se inicia a partir de um conjunto de soluções criado aleatoriamente e é realizada por meio de gerações. A cada geração, a adaptação de cada solução na população é avaliada, alguns indivíduos são selecionados para a próxima geração, e recombinados ou mutados para formar uma nova população. A nova população então é utilizada como entrada para a próxima iteração do algoritmo."
   ]
  },
  {
   "cell_type": "markdown",
   "metadata": {},
   "source": [
    "## Desenvolvimento"
   ]
  },
  {
   "cell_type": "markdown",
   "metadata": {},
   "source": [
    "Importando as bibliotecas e funções que serão utilizadas"
   ]
  },
  {
   "cell_type": "code",
   "execution_count": 28,
   "metadata": {},
   "outputs": [],
   "source": [
    "import random\n",
    "import matplotlib.pyplot as plt\n",
    "import numpy\n",
    "\n",
    "%matplotlib inline\n",
    "\n",
    "from deap import base\n",
    "from deap import creator\n",
    "from deap import tools\n",
    "from deap import algorithms"
   ]
  },
  {
   "cell_type": "markdown",
   "metadata": {},
   "source": [
    "Definindo as váriaveis referentes ao número de espécies, e o tamanho da população das mesmas"
   ]
  },
  {
   "cell_type": "code",
   "execution_count": 25,
   "metadata": {},
   "outputs": [],
   "source": [
    "IND_SIZE = 64\n",
    "SPECIES_SIZE = 50\n",
    "TARGET_SIZE = 200\n",
    "TARGET_TYPE = 2"
   ]
  },
  {
   "cell_type": "markdown",
   "metadata": {},
   "source": [
    "Função que inicializa um target correspondendo com o esquema de dados fornecidos"
   ]
  },
  {
   "cell_type": "code",
   "execution_count": 6,
   "metadata": {},
   "outputs": [],
   "source": [
    "def initTargetSet(schemata, size):\n",
    "\n",
    "    test_set = []\n",
    "    for _ in range(size):\n",
    "        test = list(random.randint(0, 1) for _ in range(len(schemata)))\n",
    "        for i, x in enumerate(schemata):\n",
    "            if x == \"0\":\n",
    "                test[i] = 0\n",
    "            elif x == \"1\":\n",
    "                test[i] = 1\n",
    "        test_set.append(test)\n",
    "    return test_set"
   ]
  },
  {
   "cell_type": "markdown",
   "metadata": {},
   "source": [
    "Função que calcula a intensidade da correspondência para um indivíduo * x * na sequência * y *."
   ]
  },
  {
   "cell_type": "code",
   "execution_count": 7,
   "metadata": {},
   "outputs": [],
   "source": [
    "def matchStrength(x, y):\n",
    "\n",
    "    return sum(xi == yi for xi, yi in zip(x, y))"
   ]
  },
  {
   "cell_type": "markdown",
   "metadata": {},
   "source": [
    "Calcula a intensidade da correspondência para o indivíduo x na sequência y, excluindo o ruído n ."
   ]
  },
  {
   "cell_type": "code",
   "execution_count": 8,
   "metadata": {},
   "outputs": [],
   "source": [
    "def matchStrengthNoNoise(x, y, n):\n",
    "\n",
    "    return sum(xi == yi for xi, yi, ni in zip(x, y, n) if ni != \"#\")"
   ]
  },
  {
   "cell_type": "markdown",
   "metadata": {},
   "source": [
    "Calcula a intensidade da correspondência de um conjunto de strings no conjunto de targets. Retorna o máximo valor de toda a sequência de String em seu respectivo target."
   ]
  },
  {
   "cell_type": "code",
   "execution_count": 9,
   "metadata": {},
   "outputs": [],
   "source": [
    "def matchSetStrength(match_set, target_set):\n",
    "\n",
    "    sum = 0.0\n",
    "    for t in target_set:\n",
    "        sum += max(matchStrength(m, t) for m in match_set)\n",
    "    return sum / len(target_set),"
   ]
  },
  {
   "cell_type": "markdown",
   "metadata": {},
   "source": [
    "Idem a função anterior, eliminando o ruído"
   ]
  },
  {
   "cell_type": "code",
   "execution_count": 10,
   "metadata": {},
   "outputs": [],
   "source": [
    "def matchSetStrengthNoNoise(match_set, target_set, noise):\n",
    "    \n",
    "    sum = 0.0\n",
    "    for t in target_set:\n",
    "        sum += max(matchStrengthNoNoise(m, t, noise) for m in match_set)\n",
    "    return sum / len(target_set),"
   ]
  },
  {
   "cell_type": "code",
   "execution_count": 11,
   "metadata": {},
   "outputs": [],
   "source": [
    "creator.create(\"FitnessMax\", base.Fitness, weights=(1.0,))\n",
    "creator.create(\"Individual\", list, fitness=creator.FitnessMax)\n",
    "\n",
    "toolbox = base.Toolbox()\n",
    "\n",
    "toolbox.register(\"bit\", random.randint, 0, 1)\n",
    "toolbox.register(\"individual\", tools.initRepeat, creator.Individual, toolbox.bit, IND_SIZE)\n",
    "toolbox.register(\"species\", tools.initRepeat, list, toolbox.individual, SPECIES_SIZE)\n",
    "toolbox.register(\"target_set\", initTargetSet)\n",
    "\n",
    "toolbox.register(\"mate\", tools.cxTwoPoint)\n",
    "toolbox.register(\"mutate\", tools.mutFlipBit, indpb=1./IND_SIZE)\n",
    "toolbox.register(\"select\", tools.selTournament, tournsize=3)\n",
    "toolbox.register(\"get_best\", tools.selBest, k=1)\n",
    "toolbox.register(\"evaluate\", matchSetStrength)"
   ]
  },
  {
   "cell_type": "code",
   "execution_count": 13,
   "metadata": {},
   "outputs": [],
   "source": [
    "species = [toolbox.species() for _ in range(SPECIES_SIZE)]"
   ]
  },
  {
   "cell_type": "code",
   "execution_count": 14,
   "metadata": {},
   "outputs": [],
   "source": [
    "def evaluate(individuals):\n",
    "    return fitness"
   ]
  },
  {
   "cell_type": "markdown",
   "metadata": {},
   "source": [
    "definindo o número de gerações"
   ]
  },
  {
   "cell_type": "code",
   "execution_count": 32,
   "metadata": {},
   "outputs": [],
   "source": [
    "g=0\n",
    "ngen=10"
   ]
  },
  {
   "cell_type": "markdown",
   "metadata": {},
   "source": [
    "Define o esquema de dados utilizado, com base no database disponível do DEAP (bas)"
   ]
  },
  {
   "cell_type": "code",
   "execution_count": 36,
   "metadata": {},
   "outputs": [],
   "source": [
    "def nicheSchematas(type, size):\n",
    "    rept = int(size/type)\n",
    "    return [\"#\" * (i*rept) + \"1\" * rept + \"#\" * ((type-i-1)*rept) for i in range(type)]"
   ]
  },
  {
   "cell_type": "markdown",
   "metadata": {},
   "source": [
    "Na função main é realizada todo o processo de evolução, com os valores de evolução dado pelas correspondências"
   ]
  },
  {
   "cell_type": "code",
   "execution_count": 37,
   "metadata": {},
   "outputs": [],
   "source": [
    "def main(extended=True, verbose=True):\n",
    "    target_set = []\n",
    "    species = []\n",
    "    \n",
    "    stats = tools.Statistics(lambda ind: ind.fitness.values)\n",
    "    stats.register(\"avg\", numpy.mean)\n",
    "    stats.register(\"std\", numpy.std)\n",
    "    stats.register(\"min\", numpy.min)\n",
    "    stats.register(\"max\", numpy.max)\n",
    "    \n",
    "    logbook = tools.Logbook()\n",
    "    logbook.header = \"gen\", \"species\", \"evals\", \"std\", \"min\", \"avg\", \"max\"\n",
    "    \n",
    "    ngen = 200\n",
    "    g = 0\n",
    "    \n",
    "    schematas = nicheSchematas(TARGET_TYPE, IND_SIZE)\n",
    "    for i in range(TARGET_TYPE):\n",
    "        size = int(TARGET_SIZE/TARGET_TYPE)\n",
    "        target_set.extend(toolbox.target_set(schematas[i], size))\n",
    "        species.append(toolbox.species())\n",
    "    \n",
    "    # Init with a random representative for each species\n",
    "    representatives = [random.choice(s) for s in species]\n",
    "    \n",
    "    while g < ngen:\n",
    "        # Initialize a container for the next generation representatives\n",
    "        next_repr = [None] * len(species)\n",
    "        for i, s in enumerate(species):\n",
    "            # Vary the species individuals\n",
    "            s = algorithms.varAnd(s, toolbox, 0.6, 1.0)\n",
    "            \n",
    "            # Get the representatives excluding the current species\n",
    "            r = representatives[:i] + representatives[i+1:]\n",
    "            for ind in s:\n",
    "                ind.fitness.values = toolbox.evaluate([ind] + r, target_set)\n",
    "            \n",
    "            record = stats.compile(s)\n",
    "            logbook.record(gen=g, species=i, evals=len(s), **record)\n",
    "            \n",
    "            if verbose: \n",
    "                print(logbook.stream)\n",
    "            \n",
    "            # Select the individuals\n",
    "            species[i] = toolbox.select(s, len(s))  # Tournament selection\n",
    "            next_repr[i] = toolbox.get_best(s)[0]   # Best selection\n",
    "        \n",
    "            g += 1\n",
    "        representatives = next_repr\n",
    "\n",
    "    if extended:\n",
    "        for r in representatives:\n",
    "            print(\"\".join(str(x) for x in r))"
   ]
  },
  {
   "cell_type": "code",
   "execution_count": 38,
   "metadata": {},
   "outputs": [
    {
     "name": "stdout",
     "output_type": "stream",
     "text": [
      "gen\tspecies\tevals\tstd     \tmin   \tavg    \tmax   \n",
      "0  \t0      \t50   \t0.941254\t32.685\t34.1874\t37.075\n",
      "1  \t1      \t50   \t1.33197 \t31.38 \t33.3431\t37.24 \n",
      "2  \t0      \t50   \t0.722772\t36.84 \t37.8951\t39.575\n",
      "3  \t1      \t50   \t0.599864\t36.845\t37.5767\t39.995\n",
      "4  \t0      \t50   \t0.717055\t37.665\t38.9392\t40.125\n",
      "5  \t1      \t50   \t0.699537\t36.725\t37.8621\t40.105\n",
      "6  \t0      \t50   \t0.56951 \t38.235\t39.6322\t40.6  \n",
      "7  \t1      \t50   \t0.861643\t36.015\t38.2748\t40.245\n",
      "8  \t0      \t50   \t0.415158\t39.095\t39.9861\t40.835\n",
      "9  \t1      \t50   \t0.663337\t38.065\t39.4455\t40.6  \n",
      "10 \t0      \t50   \t0.531064\t39.055\t40.1931\t41.485\n",
      "11 \t1      \t50   \t0.654023\t38.305\t40.0749\t40.875\n",
      "12 \t0      \t50   \t0.504706\t39.725\t40.6306\t41.585\n",
      "13 \t1      \t50   \t0.461047\t40.095\t41.042 \t41.965\n",
      "14 \t0      \t50   \t0.69512 \t38.895\t41.5178\t42.505\n",
      "15 \t1      \t50   \t0.473626\t39.62 \t41.4258\t42.125\n",
      "16 \t0      \t50   \t0.642935\t40.115\t41.9373\t44.025\n",
      "17 \t1      \t50   \t0.443992\t40.915\t42.0523\t42.985\n",
      "18 \t0      \t50   \t0.715059\t41.465\t42.7939\t44.485\n",
      "19 \t1      \t50   \t0.439347\t42.865\t43.865 \t44.975\n",
      "20 \t0      \t50   \t0.638536\t42.58 \t43.8065\t45.025\n",
      "21 \t1      \t50   \t0.494357\t42.99 \t44.0425\t45.13 \n",
      "22 \t0      \t50   \t0.544802\t43.25 \t44.3396\t45.575\n",
      "23 \t1      \t50   \t0.451701\t43.085\t44.2487\t45.135\n",
      "24 \t0      \t50   \t0.700435\t42.225\t44.5495\t45.735\n",
      "25 \t1      \t50   \t0.516208\t43.465\t44.9685\t45.945\n",
      "26 \t0      \t50   \t0.598865\t43.62 \t45.4363\t46.255\n",
      "27 \t1      \t50   \t0.491223\t44.115\t45.384 \t46.325\n",
      "28 \t0      \t50   \t0.413044\t45.115\t45.9398\t46.915\n",
      "29 \t1      \t50   \t0.447939\t44.415\t45.7186\t46.485\n",
      "30 \t0      \t50   \t0.437791\t45.095\t46.1628\t46.935\n",
      "31 \t1      \t50   \t0.478928\t45.195\t46.261 \t47.125\n",
      "32 \t0      \t50   \t0.394412\t45.375\t46.4673\t47.095\n",
      "33 \t1      \t50   \t0.511989\t45.31 \t46.3588\t47.295\n",
      "34 \t0      \t50   \t0.451487\t45.645\t46.6456\t47.375\n",
      "35 \t1      \t50   \t0.432072\t45.115\t46.4751\t47.215\n",
      "36 \t0      \t50   \t0.403009\t45.625\t46.6808\t47.335\n",
      "37 \t1      \t50   \t0.470702\t45.435\t46.6761\t47.515\n",
      "38 \t0      \t50   \t0.437162\t45.855\t46.9916\t47.545\n",
      "39 \t1      \t50   \t0.40898 \t45.91 \t46.91  \t47.585\n",
      "40 \t0      \t50   \t0.301213\t46.415\t47.238 \t47.605\n",
      "41 \t1      \t50   \t0.365296\t46.195\t47.0205\t47.585\n",
      "42 \t0      \t50   \t0.338465\t46.495\t47.2574\t47.845\n",
      "43 \t1      \t50   \t0.4125  \t46.105\t47.0935\t47.915\n",
      "44 \t0      \t50   \t0.472683\t46.245\t47.486 \t48.295\n",
      "45 \t1      \t50   \t0.382275\t46.625\t47.4052\t48.365\n",
      "46 \t0      \t50   \t0.420358\t46.505\t47.7456\t48.365\n",
      "47 \t1      \t50   \t0.482321\t45.945\t47.6066\t48.505\n",
      "48 \t0      \t50   \t0.451154\t46.645\t47.7757\t48.455\n",
      "49 \t1      \t50   \t0.409541\t46.305\t47.5788\t48.355\n",
      "50 \t0      \t50   \t0.423197\t46.78 \t47.9263\t48.595\n",
      "51 \t1      \t50   \t0.368857\t46.865\t47.7676\t48.435\n",
      "52 \t0      \t50   \t0.456384\t46.785\t48.0262\t48.655\n",
      "53 \t1      \t50   \t0.412987\t46.975\t47.9338\t48.625\n",
      "54 \t0      \t50   \t0.413881\t47.195\t48.1744\t48.695\n",
      "55 \t1      \t50   \t0.424849\t47.115\t48.15  \t48.715\n",
      "56 \t0      \t50   \t0.393437\t47.365\t48.26  \t48.715\n",
      "57 \t1      \t50   \t0.324466\t47.545\t48.2374\t48.735\n",
      "58 \t0      \t50   \t0.38485 \t47.215\t48.3582\t48.735\n",
      "59 \t1      \t50   \t0.401994\t47.075\t48.1358\t48.755\n",
      "60 \t0      \t50   \t0.421518\t46.985\t48.3118\t48.775\n",
      "61 \t1      \t50   \t0.476968\t46.625\t48.1532\t48.765\n",
      "62 \t0      \t50   \t0.361475\t47.215\t48.405 \t48.805\n",
      "63 \t1      \t50   \t0.341165\t47.175\t48.3634\t48.755\n",
      "64 \t0      \t50   \t0.403936\t47.235\t48.3394\t48.825\n",
      "65 \t1      \t50   \t0.354608\t47.605\t48.3951\t48.805\n",
      "66 \t0      \t50   \t0.399921\t47.175\t48.4696\t48.865\n",
      "67 \t1      \t50   \t0.348402\t47.695\t48.4678\t48.855\n",
      "68 \t0      \t50   \t0.443106\t47.225\t48.3786\t48.865\n",
      "69 \t1      \t50   \t0.398432\t47.305\t48.4454\t48.865\n",
      "70 \t0      \t50   \t0.362788\t46.775\t48.5342\t48.865\n",
      "71 \t1      \t50   \t0.403296\t47.225\t48.447 \t48.885\n",
      "72 \t0      \t50   \t0.287556\t47.705\t48.6208\t48.905\n",
      "73 \t1      \t50   \t0.338023\t47.155\t48.5276\t48.895\n",
      "74 \t0      \t50   \t0.423773\t47.265\t48.5024\t48.915\n",
      "75 \t1      \t50   \t0.405296\t46.835\t48.5428\t48.925\n",
      "76 \t0      \t50   \t0.254992\t47.855\t48.6702\t48.935\n",
      "77 \t1      \t50   \t0.427622\t46.815\t48.5   \t48.945\n",
      "78 \t0      \t50   \t0.399726\t47.375\t48.5772\t48.985\n",
      "79 \t1      \t50   \t0.497889\t46.845\t48.4934\t48.975\n",
      "80 \t0      \t50   \t0.404199\t47.305\t48.566 \t49.005\n",
      "81 \t1      \t50   \t0.441786\t47.375\t48.6368\t49.005\n",
      "82 \t0      \t50   \t0.363513\t47.355\t48.6756\t49.025\n",
      "83 \t1      \t50   \t0.310918\t47.915\t48.6926\t49.005\n",
      "84 \t0      \t50   \t0.48007 \t47.425\t48.5912\t49.025\n",
      "85 \t1      \t50   \t0.357569\t47.395\t48.6676\t49.025\n",
      "86 \t0      \t50   \t0.440481\t47.425\t48.6124\t49.025\n",
      "87 \t1      \t50   \t0.439298\t47.395\t48.5762\t49.025\n",
      "88 \t0      \t50   \t0.407674\t47.405\t48.6374\t49.035\n",
      "89 \t1      \t50   \t0.344895\t47.905\t48.6192\t49.025\n",
      "90 \t0      \t50   \t0.422943\t46.815\t48.67  \t49.055\n",
      "91 \t1      \t50   \t0.416948\t47.435\t48.6356\t49.035\n",
      "92 \t0      \t50   \t0.369374\t47.545\t48.6766\t49.055\n",
      "93 \t1      \t50   \t0.475726\t47.015\t48.6742\t49.045\n",
      "94 \t0      \t50   \t0.277628\t47.845\t48.7728\t49.055\n",
      "95 \t1      \t50   \t0.304177\t48.025\t48.7554\t49.045\n",
      "96 \t0      \t50   \t0.488747\t46.995\t48.6452\t49.055\n",
      "97 \t1      \t50   \t0.316782\t47.985\t48.8268\t49.055\n",
      "98 \t0      \t50   \t0.396031\t47.515\t48.7004\t49.085\n",
      "99 \t1      \t50   \t0.295862\t47.945\t48.8574\t49.065\n",
      "100\t0      \t50   \t0.384141\t47.495\t48.7578\t49.095\n",
      "101\t1      \t50   \t0.36145 \t47.585\t48.7982\t49.085\n",
      "102\t0      \t50   \t0.41701 \t47.025\t48.708 \t49.095\n",
      "103\t1      \t50   \t0.394791\t47.565\t48.761 \t49.085\n",
      "104\t0      \t50   \t0.341175\t47.565\t48.6694\t49.075\n",
      "105\t1      \t50   \t0.39649 \t47.575\t48.723 \t49.095\n",
      "106\t0      \t50   \t0.399506\t47.475\t48.582 \t49.065\n",
      "107\t1      \t50   \t0.428051\t47.575\t48.697 \t49.095\n",
      "108\t0      \t50   \t0.428723\t47.435\t48.6742\t49.095\n",
      "109\t1      \t50   \t0.336759\t47.985\t48.7816\t49.075\n",
      "110\t0      \t50   \t0.377441\t47.475\t48.7118\t49.085\n",
      "111\t1      \t50   \t0.40275 \t47.575\t48.6942\t49.085\n",
      "112\t0      \t50   \t0.403531\t47.405\t48.7128\t49.105\n",
      "113\t1      \t50   \t0.396273\t47.475\t48.687 \t49.085\n",
      "114\t0      \t50   \t0.41983 \t47.505\t48.6744\t49.065\n",
      "115\t1      \t50   \t0.347793\t47.575\t48.771 \t49.105\n",
      "116\t0      \t50   \t0.333252\t47.765\t48.7094\t49.075\n",
      "117\t1      \t50   \t0.371609\t47.435\t48.736 \t49.065\n",
      "118\t0      \t50   \t0.362646\t47.545\t48.685 \t49.125\n",
      "119\t1      \t50   \t0.311095\t47.925\t48.8236\t49.075\n",
      "120\t0      \t50   \t0.326728\t47.905\t48.7758\t49.125\n",
      "121\t1      \t50   \t0.308592\t48.025\t48.874 \t49.145\n",
      "122\t0      \t50   \t0.316797\t47.915\t48.8064\t49.135\n",
      "123\t1      \t50   \t0.330448\t47.615\t48.841 \t49.135\n",
      "124\t0      \t50   \t0.352632\t47.985\t48.756 \t49.125\n",
      "125\t1      \t50   \t0.446828\t47.525\t48.7588\t49.135\n",
      "126\t0      \t50   \t0.303305\t48.055\t48.8352\t49.135\n",
      "127\t1      \t50   \t0.357309\t47.565\t48.8252\t49.135\n",
      "128\t0      \t50   \t0.436262\t47.065\t48.6694\t49.155\n",
      "129\t1      \t50   \t0.36384 \t47.565\t48.8312\t49.135\n",
      "130\t0      \t50   \t0.391826\t47.505\t48.7188\t49.155\n",
      "131\t1      \t50   \t0.336666\t48.105\t48.8836\t49.155\n",
      "132\t0      \t50   \t0.360891\t47.585\t48.7848\t49.155\n",
      "133\t1      \t50   \t0.299187\t48.015\t48.9428\t49.155\n",
      "134\t0      \t50   \t0.346111\t47.625\t48.768 \t49.155\n",
      "135\t1      \t50   \t0.294617\t48.025\t48.9158\t49.155\n",
      "136\t0      \t50   \t0.31399 \t47.975\t48.8656\t49.165\n",
      "137\t1      \t50   \t0.337942\t47.965\t48.866 \t49.155\n",
      "138\t0      \t50   \t0.272653\t48.095\t48.9288\t49.165\n",
      "139\t1      \t50   \t0.412897\t47.665\t48.7454\t49.165\n",
      "140\t0      \t50   \t0.405601\t47.655\t48.765 \t49.165\n",
      "141\t1      \t50   \t0.345851\t48.035\t48.8396\t49.165\n",
      "142\t0      \t50   \t0.440413\t47.575\t48.7112\t49.165\n",
      "143\t1      \t50   \t0.404057\t47.655\t48.7652\t49.165\n",
      "144\t0      \t50   \t0.376622\t47.985\t48.7146\t49.165\n",
      "145\t1      \t50   \t0.394579\t47.645\t48.7898\t49.165\n",
      "146\t0      \t50   \t0.351516\t47.985\t48.7842\t49.175\n",
      "147\t1      \t50   \t0.360432\t47.975\t48.8888\t49.165\n",
      "148\t0      \t50   \t0.399082\t47.615\t48.7532\t49.175\n",
      "149\t1      \t50   \t0.478038\t47.645\t48.7594\t49.175\n",
      "150\t0      \t50   \t0.378464\t47.665\t48.8586\t49.175\n",
      "151\t1      \t50   \t0.355751\t48.085\t48.8262\t49.175\n",
      "152\t0      \t50   \t0.359336\t48.065\t48.8416\t49.175\n",
      "153\t1      \t50   \t0.439036\t47.575\t48.7596\t49.185\n",
      "154\t0      \t50   \t0.453786\t47.105\t48.8348\t49.185\n",
      "155\t1      \t50   \t0.493788\t46.135\t48.7668\t49.185\n",
      "156\t0      \t50   \t0.373064\t47.645\t48.8106\t49.185\n",
      "157\t1      \t50   \t0.345481\t48.035\t48.798 \t49.175\n",
      "158\t0      \t50   \t0.377833\t48.015\t48.7818\t49.175\n",
      "159\t1      \t50   \t0.305432\t47.965\t48.8349\t49.175\n",
      "160\t0      \t50   \t0.447608\t47.145\t48.7596\t49.195\n",
      "161\t1      \t50   \t0.399766\t47.645\t48.756 \t49.175\n",
      "162\t0      \t50   \t0.405781\t47.535\t48.7526\t49.195\n",
      "163\t1      \t50   \t0.570616\t46.565\t48.6862\t49.195\n",
      "164\t0      \t50   \t0.432751\t47.335\t48.746 \t49.205\n",
      "165\t1      \t50   \t0.348951\t48.045\t48.8068\t49.195\n",
      "166\t0      \t50   \t0.44511 \t47.505\t48.7962\t49.205\n",
      "167\t1      \t50   \t0.357627\t47.675\t48.8804\t49.205\n"
     ]
    },
    {
     "name": "stdout",
     "output_type": "stream",
     "text": [
      "168\t0      \t50   \t0.32468 \t48.115\t48.9296\t49.215\n",
      "169\t1      \t50   \t0.401741\t47.615\t48.8854\t49.205\n",
      "170\t0      \t50   \t0.374869\t47.645\t48.8814\t49.215\n",
      "171\t1      \t50   \t0.31058 \t48.135\t48.883 \t49.215\n",
      "172\t0      \t50   \t0.305025\t48.175\t48.9692\t49.215\n",
      "173\t1      \t50   \t0.339275\t48.145\t48.8946\t49.215\n",
      "174\t0      \t50   \t0.436057\t47.685\t48.8448\t49.215\n",
      "175\t1      \t50   \t0.373868\t47.675\t48.8802\t49.215\n",
      "176\t0      \t50   \t0.419218\t47.205\t48.907 \t49.215\n",
      "177\t1      \t50   \t0.282379\t48.195\t48.9556\t49.215\n",
      "178\t0      \t50   \t0.364134\t47.695\t48.8418\t49.215\n",
      "179\t1      \t50   \t0.340846\t48.065\t48.8964\t49.215\n",
      "180\t0      \t50   \t0.328241\t48.205\t48.8774\t49.215\n",
      "181\t1      \t50   \t0.384764\t48.105\t48.8158\t49.215\n",
      "182\t0      \t50   \t0.376431\t47.665\t48.8864\t49.215\n",
      "183\t1      \t50   \t0.385083\t47.715\t48.8872\t49.225\n",
      "184\t0      \t50   \t0.35145 \t48.055\t48.916 \t49.235\n",
      "185\t1      \t50   \t0.300484\t48.005\t48.9462\t49.225\n",
      "186\t0      \t50   \t0.295447\t47.725\t48.9906\t49.235\n",
      "187\t1      \t50   \t0.38176 \t47.685\t48.886 \t49.235\n",
      "188\t0      \t50   \t0.375203\t47.995\t48.916 \t49.235\n",
      "189\t1      \t50   \t0.343592\t48.125\t48.9088\t49.235\n",
      "190\t0      \t50   \t0.389101\t47.655\t48.8676\t49.235\n",
      "191\t1      \t50   \t0.365281\t47.645\t48.9374\t49.235\n",
      "192\t0      \t50   \t0.391376\t47.725\t48.8776\t49.235\n",
      "193\t1      \t50   \t0.388385\t47.685\t48.8738\t49.235\n",
      "194\t0      \t50   \t0.362037\t47.715\t48.8414\t49.235\n",
      "195\t1      \t50   \t0.366815\t47.715\t48.8766\t49.235\n",
      "196\t0      \t50   \t0.379057\t48.075\t48.831 \t49.225\n",
      "197\t1      \t50   \t0.348253\t47.715\t48.9236\t49.235\n",
      "198\t0      \t50   \t0.369938\t48.065\t48.8452\t49.225\n",
      "199\t1      \t50   \t0.367524\t47.605\t48.8952\t49.225\n",
      "1111111111111111111111111111111110101110100111111110000111010000\n",
      "0100101010110011000001100100111111111111111111111111111111111111\n"
     ]
    }
   ],
   "source": [
    "if __name__ == \"__main__\":\n",
    "    main()"
   ]
  }
 ],
 "metadata": {
  "kernelspec": {
   "display_name": "Python 3",
   "language": "python",
   "name": "python3"
  },
  "language_info": {
   "codemirror_mode": {
    "name": "ipython",
    "version": 3
   },
   "file_extension": ".py",
   "mimetype": "text/x-python",
   "name": "python",
   "nbconvert_exporter": "python",
   "pygments_lexer": "ipython3",
   "version": "3.7.4"
  }
 },
 "nbformat": 4,
 "nbformat_minor": 2
}
