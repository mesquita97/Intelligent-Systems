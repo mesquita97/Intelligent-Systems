{
 "cells": [
  {
   "cell_type": "markdown",
   "metadata": {},
   "source": [
    "# Sistemas Inteligentes\n",
    "\n",
    "## Exercício Computacional 2 - Classificação\n",
    "\n",
    "Preencha todas as células adequadamente e responda todas as perguntas de forma completa e elaborada."
   ]
  },
  {
   "cell_type": "markdown",
   "metadata": {},
   "source": [
    "### Identificação do Aluno"
   ]
  },
  {
   "cell_type": "markdown",
   "metadata": {},
   "source": [
    "#### Nome Completo"
   ]
  },
  {
   "cell_type": "markdown",
   "metadata": {},
   "source": [
    "Gabriel Mesquita de Souza"
   ]
  },
  {
   "cell_type": "markdown",
   "metadata": {},
   "source": [
    "#### RA"
   ]
  },
  {
   "cell_type": "markdown",
   "metadata": {},
   "source": [
    "11057015"
   ]
  },
  {
   "cell_type": "markdown",
   "metadata": {},
   "source": [
    "### Instruções\n",
    "\n",
    "Treine e teste um classificador à sua escolha utilizando a base de dados **Olivetti Faces** (veja as referências).\n",
    "\n",
    "Faça um caso com com *k-Fold* e um caso de forma direta, ou seja, utilizando o *train_test_split*.\n",
    "\n",
    "Exiba a acurácia e a *Confusion Matrix*, então discuta sobre o desempenho do classificador para os dois casos.\n",
    "\n",
    "Entre as células de códigos, insira células de tipo *Markdown* para fornecer explicações sobre os passos realizados; não insira apenas códigos \"soltos\" sem explicação.\n",
    "\n",
    "Dica: desta vez, estamos lidando com uma quantidade relativamente grande de classes, então pode ser interessante exibir a *Confusion Matrix* utilizando escala de cinza para representar os valores de cada célula da matriz; para fazer isso, prefira utilizar a função **imshow** com o mapa de cores (argumento **cmap**) do tipo **'Greys'**.\n",
    "\n",
    "**EXTRA**: tente fazer um caso com *Bootstrap* em vez de *k-Fold*, então comente sobre o método e os resultados."
   ]
  },
  {
   "cell_type": "markdown",
   "metadata": {},
   "source": [
    "## Desenvolvimento"
   ]
  },
  {
   "cell_type": "raw",
   "metadata": {},
   "source": [
    "** Importando **"
   ]
  },
  {
   "cell_type": "code",
   "execution_count": 1,
   "metadata": {},
   "outputs": [],
   "source": [
    "import numpy as np\n",
    "from sklearn import datasets\n",
    "import matplotlib.pyplot as plt"
   ]
  },
  {
   "cell_type": "code",
   "execution_count": 2,
   "metadata": {
    "scrolled": false
   },
   "outputs": [],
   "source": [
    "faces = datasets.olivetti_faces.fetch_olivetti_faces(shuffle=True, download_if_missing=True)"
   ]
  },
  {
   "cell_type": "code",
   "execution_count": 3,
   "metadata": {},
   "outputs": [
    {
     "data": {
      "text/plain": [
       "{'data': array([[0.6694215 , 0.6363636 , 0.6487603 , ..., 0.08677686, 0.08264463,\n",
       "         0.07438017],\n",
       "        [0.76859504, 0.75619835, 0.74380165, ..., 0.48347107, 0.6280992 ,\n",
       "         0.6528926 ],\n",
       "        [0.37190083, 0.34710744, 0.3677686 , ..., 0.7066116 , 0.6818182 ,\n",
       "         0.5495868 ],\n",
       "        ...,\n",
       "        [0.55785125, 0.60330576, 0.6570248 , ..., 0.17768595, 0.20661157,\n",
       "         0.19421488],\n",
       "        [0.5206612 , 0.5206612 , 0.53305787, ..., 0.46694216, 0.43801653,\n",
       "         0.43801653],\n",
       "        [0.3966942 , 0.3677686 , 0.3429752 , ..., 0.37190083, 0.26859504,\n",
       "         0.29752067]], dtype=float32),\n",
       " 'images': array([[[0.6694215 , 0.6363636 , 0.6487603 , ..., 0.14049587,\n",
       "          0.2603306 , 0.30165288],\n",
       "         [0.661157  , 0.62396693, 0.6652893 , ..., 0.17355372,\n",
       "          0.1570248 , 0.29752067],\n",
       "         [0.6280992 , 0.6570248 , 0.6446281 , ..., 0.22727273,\n",
       "          0.12809917, 0.22727273],\n",
       "         ...,\n",
       "         [0.16115703, 0.16115703, 0.13636364, ..., 0.08677686,\n",
       "          0.09504132, 0.07438017],\n",
       "         [0.1570248 , 0.1570248 , 0.15289256, ..., 0.08677686,\n",
       "          0.08677686, 0.0661157 ],\n",
       "         [0.14049587, 0.15289256, 0.18181819, ..., 0.08677686,\n",
       "          0.08264463, 0.07438017]],\n",
       " \n",
       "        [[0.76859504, 0.75619835, 0.74380165, ..., 0.61570245,\n",
       "          0.677686  , 0.5785124 ],\n",
       "         [0.8016529 , 0.7892562 , 0.7892562 , ..., 0.6198347 ,\n",
       "          0.677686  , 0.60330576],\n",
       "         [0.7933884 , 0.8140496 , 0.8140496 , ..., 0.6198347 ,\n",
       "          0.6694215 , 0.61157024],\n",
       "         ...,\n",
       "         [0.37190083, 0.5289256 , 0.47107437, ..., 0.61157024,\n",
       "          0.6198347 , 0.6280992 ],\n",
       "         [0.4090909 , 0.5247934 , 0.47107437, ..., 0.57024795,\n",
       "          0.607438  , 0.6942149 ],\n",
       "         [0.45867768, 0.5289256 , 0.45867768, ..., 0.48347107,\n",
       "          0.6280992 , 0.6528926 ]],\n",
       " \n",
       "        [[0.37190083, 0.34710744, 0.3677686 , ..., 0.20247933,\n",
       "          0.1983471 , 0.19008264],\n",
       "         [0.38016528, 0.38429752, 0.38842976, ..., 0.2768595 ,\n",
       "          0.30578512, 0.3264463 ],\n",
       "         [0.38842976, 0.39256197, 0.38429752, ..., 0.37190083,\n",
       "          0.35950413, 0.34710744],\n",
       "         ...,\n",
       "         [0.8305785 , 0.8305785 , 0.8305785 , ..., 0.6942149 ,\n",
       "          0.6528926 , 0.5289256 ],\n",
       "         [0.8305785 , 0.8305785 , 0.8305785 , ..., 0.6983471 ,\n",
       "          0.677686  , 0.5413223 ],\n",
       "         [0.8305785 , 0.8305785 , 0.8305785 , ..., 0.7066116 ,\n",
       "          0.6818182 , 0.5495868 ]],\n",
       " \n",
       "        ...,\n",
       " \n",
       "        [[0.55785125, 0.60330576, 0.6570248 , ..., 0.30578512,\n",
       "          0.23140496, 0.42975205],\n",
       "         [0.56198347, 0.607438  , 0.6694215 , ..., 0.3305785 ,\n",
       "          0.27272728, 0.338843  ],\n",
       "         [0.57438016, 0.62396693, 0.6694215 , ..., 0.3677686 ,\n",
       "          0.29752067, 0.32231405],\n",
       "         ...,\n",
       "         [0.11983471, 0.2768595 , 0.39256197, ..., 0.18181819,\n",
       "          0.18181819, 0.17355372],\n",
       "         [0.11983471, 0.21900827, 0.3677686 , ..., 0.17768595,\n",
       "          0.2107438 , 0.19421488],\n",
       "         [0.12809917, 0.17768595, 0.3429752 , ..., 0.17768595,\n",
       "          0.20661157, 0.19421488]],\n",
       " \n",
       "        [[0.5206612 , 0.5206612 , 0.53305787, ..., 0.60330576,\n",
       "          0.59090906, 0.5371901 ],\n",
       "         [0.5082645 , 0.5123967 , 0.5165289 , ..., 0.59090906,\n",
       "          0.5661157 , 0.5371901 ],\n",
       "         [0.48347107, 0.5123967 , 0.5041322 , ..., 0.57438016,\n",
       "          0.55785125, 0.53305787],\n",
       "         ...,\n",
       "         [0.3966942 , 0.38016528, 0.37603307, ..., 0.46694216,\n",
       "          0.4338843 , 0.4338843 ],\n",
       "         [0.36363637, 0.39256197, 0.35950413, ..., 0.46694216,\n",
       "          0.4338843 , 0.4338843 ],\n",
       "         [0.33471075, 0.3966942 , 0.3677686 , ..., 0.46694216,\n",
       "          0.43801653, 0.43801653]],\n",
       " \n",
       "        [[0.3966942 , 0.3677686 , 0.3429752 , ..., 0.41735536,\n",
       "          0.32231405, 0.446281  ],\n",
       "         [0.38842976, 0.35123968, 0.2520661 , ..., 0.42561984,\n",
       "          0.338843  , 0.29338843],\n",
       "         [0.37603307, 0.30165288, 0.23966943, ..., 0.4338843 ,\n",
       "          0.35950413, 0.2768595 ],\n",
       "         ...,\n",
       "         [0.38842976, 0.38016528, 0.38429752, ..., 0.3677686 ,\n",
       "          0.2520661 , 0.2892562 ],\n",
       "         [0.38429752, 0.3677686 , 0.39256197, ..., 0.3553719 ,\n",
       "          0.25619835, 0.29338843],\n",
       "         [0.37190083, 0.40082645, 0.38842976, ..., 0.37190083,\n",
       "          0.26859504, 0.29752067]]], dtype=float32),\n",
       " 'target': array([13, 30, 34, 19, 24,  6, 15, 26, 14, 21,  3, 13, 11, 34,  1,  5, 29,\n",
       "        14, 20, 19, 17, 26, 12, 34, 17, 31,  7,  1, 28, 10, 17, 30, 33, 22,\n",
       "         6,  7,  9, 17, 17, 39, 10, 32,  0,  0, 29,  5, 37, 25, 15, 23, 24,\n",
       "        14, 29, 17, 28, 31,  5,  1,  2,  4,  7, 27,  0, 35, 19, 37, 14,  0,\n",
       "        15, 31,  0, 26,  6,  2, 10,  1, 36, 30, 36, 32, 33,  6,  5, 10, 30,\n",
       "        22, 12, 37, 39, 32, 38, 25,  5,  0, 19, 14, 13, 39, 26, 36, 25,  6,\n",
       "        31, 15, 28, 34,  8, 34, 15, 29,  9,  8, 29,  2, 36, 21, 25,  4, 23,\n",
       "        34,  9, 22, 23, 23, 37, 14,  2, 25, 35, 16, 15, 39,  6, 24, 21, 10,\n",
       "        31, 19, 32,  1, 16, 18,  3, 11, 26, 10, 35, 24, 23, 11, 33, 12, 28,\n",
       "        11, 21, 13, 27, 12, 19, 29, 28, 13,  3, 37, 16,  3, 23,  9,  8,  6,\n",
       "        16, 28, 20, 39, 23, 28, 10,  4, 32, 39, 22,  7, 13, 38, 22, 21,  2,\n",
       "        18, 36, 27,  5, 32, 35,  2,  0, 21, 15, 21, 37, 22, 13, 23, 21, 27,\n",
       "        27, 30, 23,  3, 20, 39,  6,  2, 33,  4, 24, 12,  9, 11, 16, 38, 38,\n",
       "        34,  4,  1, 28,  7, 24, 39,  7,  1, 36, 21, 38, 38, 22, 16, 10, 16,\n",
       "         8, 18, 39, 11, 25, 18, 20, 37, 11, 14, 15, 15,  1, 26,  7, 10, 32,\n",
       "        20, 31, 13, 23, 31, 24, 30,  1, 22, 30,  0, 27, 12,  7, 18, 30, 37,\n",
       "        34, 18, 35,  8, 25,  1, 29,  8, 26,  3, 38,  5,  4, 27,  5, 20, 31,\n",
       "        31, 33, 12, 22,  6, 30, 13, 18,  2,  4,  0, 20, 33,  9, 38, 17, 25,\n",
       "         9, 36,  9, 35, 16,  6, 30,  4, 20, 27, 22, 14, 14, 18, 13, 35, 39,\n",
       "        26, 32, 20,  8, 12, 34, 36,  9,  8, 26, 11, 29,  5, 32, 25, 35,  4,\n",
       "        10, 36, 27, 35,  3,  5, 34, 12, 29,  2, 18, 16, 15, 24, 20,  3,  3,\n",
       "        12, 18, 37, 28, 36, 14, 28, 37, 17,  9, 33, 33, 19, 24, 11, 26,  7,\n",
       "        33,  2, 16, 33, 38, 17, 38,  3, 19, 31,  8,  7,  8, 29, 24, 27, 21,\n",
       "         0, 35, 19, 25, 32, 19, 11,  4, 17]),\n",
       " 'DESCR': '.. _olivetti_faces_dataset:\\n\\nThe Olivetti faces dataset\\n--------------------------\\n\\n`This dataset contains a set of face images`_ taken between April 1992 and \\nApril 1994 at AT&T Laboratories Cambridge. The\\n:func:`sklearn.datasets.fetch_olivetti_faces` function is the data\\nfetching / caching function that downloads the data\\narchive from AT&T.\\n\\n.. _This dataset contains a set of face images: http://www.cl.cam.ac.uk/research/dtg/attarchive/facedatabase.html\\n\\nAs described on the original website:\\n\\n    There are ten different images of each of 40 distinct subjects. For some\\n    subjects, the images were taken at different times, varying the lighting,\\n    facial expressions (open / closed eyes, smiling / not smiling) and facial\\n    details (glasses / no glasses). All the images were taken against a dark\\n    homogeneous background with the subjects in an upright, frontal position \\n    (with tolerance for some side movement).\\n\\n**Data Set Characteristics:**\\n\\n    =================   =====================\\n    Classes                                40\\n    Samples total                         400\\n    Dimensionality                       4096\\n    Features            real, between 0 and 1\\n    =================   =====================\\n\\nThe image is quantized to 256 grey levels and stored as unsigned 8-bit \\nintegers; the loader will convert these to floating point values on the \\ninterval [0, 1], which are easier to work with for many algorithms.\\n\\nThe \"target\" for this database is an integer from 0 to 39 indicating the\\nidentity of the person pictured; however, with only 10 examples per class, this\\nrelatively small dataset is more interesting from an unsupervised or\\nsemi-supervised perspective.\\n\\nThe original dataset consisted of 92 x 112, while the version available here\\nconsists of 64x64 images.\\n\\nWhen using these images, please give credit to AT&T Laboratories Cambridge.\\n'}"
      ]
     },
     "execution_count": 3,
     "metadata": {},
     "output_type": "execute_result"
    }
   ],
   "source": [
    "faces"
   ]
  },
  {
   "cell_type": "code",
   "execution_count": 14,
   "metadata": {},
   "outputs": [
    {
     "data": {
      "text/plain": [
       "numpy.ndarray"
      ]
     },
     "execution_count": 14,
     "metadata": {},
     "output_type": "execute_result"
    }
   ],
   "source": [
    "type(faces['data'][:])"
   ]
  },
  {
   "cell_type": "code",
   "execution_count": 32,
   "metadata": {},
   "outputs": [],
   "source": [
    "data = faces['data']\n",
    "images = faces['images']\n",
    "target = faces['target']"
   ]
  },
  {
   "cell_type": "code",
   "execution_count": 45,
   "metadata": {},
   "outputs": [
    {
     "data": {
      "text/plain": [
       "array([13, 30, 34, 19, 24,  6, 15, 26, 14, 21,  3, 13, 11, 34,  1,  5, 29,\n",
       "       14, 20, 19, 17, 26, 12, 34, 17, 31,  7,  1, 28, 10, 17, 30, 33, 22,\n",
       "        6,  7,  9, 17, 17, 39, 10, 32,  0,  0, 29,  5, 37, 25, 15, 23, 24,\n",
       "       14, 29, 17, 28, 31,  5,  1,  2,  4,  7, 27,  0, 35, 19, 37, 14,  0,\n",
       "       15, 31,  0, 26,  6,  2, 10,  1, 36, 30, 36, 32, 33,  6,  5, 10, 30,\n",
       "       22, 12, 37, 39, 32, 38, 25,  5,  0, 19, 14, 13, 39, 26, 36, 25,  6,\n",
       "       31, 15, 28, 34,  8, 34, 15, 29,  9,  8, 29,  2, 36, 21, 25,  4, 23,\n",
       "       34,  9, 22, 23, 23, 37, 14,  2, 25, 35, 16, 15, 39,  6, 24, 21, 10,\n",
       "       31, 19, 32,  1, 16, 18,  3, 11, 26, 10, 35, 24, 23, 11, 33, 12, 28,\n",
       "       11, 21, 13, 27, 12, 19, 29, 28, 13,  3, 37, 16,  3, 23,  9,  8,  6,\n",
       "       16, 28, 20, 39, 23, 28, 10,  4, 32, 39, 22,  7, 13, 38, 22, 21,  2,\n",
       "       18, 36, 27,  5, 32, 35,  2,  0, 21, 15, 21, 37, 22, 13, 23, 21, 27,\n",
       "       27, 30, 23,  3, 20, 39,  6,  2, 33,  4, 24, 12,  9, 11, 16, 38, 38,\n",
       "       34,  4,  1, 28,  7, 24, 39,  7,  1, 36, 21, 38, 38, 22, 16, 10, 16,\n",
       "        8, 18, 39, 11, 25, 18, 20, 37, 11, 14, 15, 15,  1, 26,  7, 10, 32,\n",
       "       20, 31, 13, 23, 31, 24, 30,  1, 22, 30,  0, 27, 12,  7, 18, 30, 37,\n",
       "       34, 18, 35,  8, 25,  1, 29,  8, 26,  3, 38,  5,  4, 27,  5, 20, 31,\n",
       "       31, 33, 12, 22,  6, 30, 13, 18,  2,  4,  0, 20, 33,  9, 38, 17, 25,\n",
       "        9, 36,  9, 35, 16,  6, 30,  4, 20, 27, 22, 14, 14, 18, 13, 35, 39,\n",
       "       26, 32, 20,  8, 12, 34, 36,  9,  8, 26, 11, 29,  5, 32, 25, 35,  4,\n",
       "       10, 36, 27, 35,  3,  5, 34, 12, 29,  2, 18, 16, 15, 24, 20,  3,  3,\n",
       "       12, 18, 37, 28, 36, 14, 28, 37, 17,  9, 33, 33, 19, 24, 11, 26,  7,\n",
       "       33,  2, 16, 33, 38, 17, 38,  3, 19, 31,  8,  7,  8, 29, 24, 27, 21,\n",
       "        0, 35, 19, 25, 32, 19, 11,  4, 17])"
      ]
     },
     "execution_count": 45,
     "metadata": {},
     "output_type": "execute_result"
    }
   ],
   "source": []
  },
  {
   "cell_type": "code",
   "execution_count": null,
   "metadata": {},
   "outputs": [],
   "source": []
  },
  {
   "cell_type": "code",
   "execution_count": null,
   "metadata": {},
   "outputs": [],
   "source": []
  },
  {
   "cell_type": "code",
   "execution_count": null,
   "metadata": {},
   "outputs": [],
   "source": []
  },
  {
   "cell_type": "code",
   "execution_count": null,
   "metadata": {},
   "outputs": [],
   "source": []
  },
  {
   "cell_type": "code",
   "execution_count": null,
   "metadata": {},
   "outputs": [],
   "source": []
  },
  {
   "cell_type": "code",
   "execution_count": null,
   "metadata": {},
   "outputs": [],
   "source": []
  },
  {
   "cell_type": "markdown",
   "metadata": {},
   "source": [
    "## Questões"
   ]
  },
  {
   "cell_type": "markdown",
   "metadata": {},
   "source": [
    "### 1. O classificador escolhido por você obteve um bom desempenho em sua opinião? Por que?"
   ]
  },
  {
   "cell_type": "markdown",
   "metadata": {},
   "source": [
    "ESCREVA AQUI A SUA RESPOSTA"
   ]
  },
  {
   "cell_type": "markdown",
   "metadata": {},
   "source": [
    "### 2. Além da acurácia e da matriz de confusão, quais métricas e recursos poderiam ser utilizados para avaliar o seu classificador?"
   ]
  },
  {
   "cell_type": "markdown",
   "metadata": {},
   "source": [
    "ESCREVA AQUI A SUA RESPOSTA"
   ]
  },
  {
   "cell_type": "markdown",
   "metadata": {},
   "source": [
    "### 3. O seu classificador obteve um desempenho notoriamente superior ou inferior para alguma das classes? Para qual(is)? Por que você acredita que isso ocorreu?"
   ]
  },
  {
   "cell_type": "markdown",
   "metadata": {},
   "source": [
    "ESCREVA AQUI A SUA RESPOSTA"
   ]
  },
  {
   "cell_type": "markdown",
   "metadata": {},
   "source": [
    "### 4. O que se poderia fazer para melhorar o desempenho de seu classificador?"
   ]
  },
  {
   "cell_type": "markdown",
   "metadata": {},
   "source": [
    "ESCREVA AQUI A SUA RESPOSTA"
   ]
  },
  {
   "cell_type": "markdown",
   "metadata": {},
   "source": [
    "### 5. Se fosse utilizada apenas metade da base de dados deste exercício em vez de ela toda, mas mantendo as proporções para os dados de treinamento e teste, os resultados sofreriam alguma mudança significativa? Se sim, quais e em qual intensidade?"
   ]
  },
  {
   "cell_type": "markdown",
   "metadata": {},
   "source": [
    "ESCREVA AQUI A SUA RESPOSTA"
   ]
  },
  {
   "cell_type": "markdown",
   "metadata": {},
   "source": [
    "### 6. Para quê servem métodos como k-Fold e Bootstrap? Você observou alguma mudança significativa por conta de sua utilização? Se sim, qual? E a quê se deve isso?"
   ]
  },
  {
   "cell_type": "markdown",
   "metadata": {},
   "source": [
    "ESCREVA AQUI A SUA RESPOSTA"
   ]
  },
  {
   "cell_type": "markdown",
   "metadata": {},
   "source": [
    "## Referências"
   ]
  },
  {
   "cell_type": "markdown",
   "metadata": {},
   "source": [
    "[Scikit-Learn - Datasets - Olivetti Faces](http://scikit-learn.org/stable/modules/generated/sklearn.datasets.fetch_olivetti_faces.html)\n",
    "\n",
    "[Matplotlib - Pyplot](https://matplotlib.org/api/pyplot_summary.html)\n",
    "\n",
    "[Numpy](https://docs.scipy.org/doc/numpy/reference/)\n",
    "\n",
    "[Scikit-Learn - Train, Test and Split](http://scikit-learn.org/stable/modules/generated/sklearn.model_selection.train_test_split.html)\n",
    "\n",
    "[Scikit-Learn - KFold](http://scikit-learn.org/stable/modules/generated/sklearn.model_selection.KFold.html#sklearn.model_selection.KFold)\n",
    "\n",
    "[Scikit-Learn - Resample (Bootstrap)](http://scikit-learn.org/stable/modules/generated/sklearn.utils.resample.html)\n",
    "\n",
    "[Scikit-Learn - KNeighborsClassifier](http://scikit-learn.org/stable/modules/generated/sklearn.neighbors.KNeighborsClassifier.html)\n",
    "\n",
    "[Scikit-Learn - DecisionTreeClassifier](http://scikit-learn.org/stable/modules/generated/sklearn.tree.DecisionTreeClassifier.html)\n",
    "\n",
    "[Scikit-Learn - LinearDiscriminantAnalysis](http://scikit-learn.org/stable/modules/generated/sklearn.discriminant_analysis.LinearDiscriminantAnalysis.html)\n",
    "\n",
    "[Scikit-Learn - LinearSVC](http://scikit-learn.org/stable/modules/generated/sklearn.svm.LinearSVC.html#sklearn.svm.LinearSVC)\n",
    "\n",
    "[Scikit-Learn - MLPClassifier](http://scikit-learn.org/stable/modules/generated/sklearn.neural_network.MLPClassifier.html#sklearn.neural_network.MLPClassifier)\n",
    "\n",
    "[Scikit-Learn - Accuracy Score](http://scikit-learn.org/stable/modules/generated/sklearn.metrics.accuracy_score.html)\n",
    "\n",
    "[Scikit-Learn - Confusion Matrix](http://scikit-learn.org/stable/modules/generated/sklearn.metrics.confusion_matrix.html)"
   ]
  },
  {
   "cell_type": "code",
   "execution_count": null,
   "metadata": {},
   "outputs": [],
   "source": []
  }
 ],
 "metadata": {
  "kernelspec": {
   "display_name": "Python 3",
   "language": "python",
   "name": "python3"
  },
  "language_info": {
   "codemirror_mode": {
    "name": "ipython",
    "version": 3
   },
   "file_extension": ".py",
   "mimetype": "text/x-python",
   "name": "python",
   "nbconvert_exporter": "python",
   "pygments_lexer": "ipython3",
   "version": "3.7.4"
  }
 },
 "nbformat": 4,
 "nbformat_minor": 2
}
